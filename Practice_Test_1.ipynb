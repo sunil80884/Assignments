{
  "nbformat": 4,
  "nbformat_minor": 0,
  "metadata": {
    "colab": {
      "provenance": [],
      "authorship_tag": "ABX9TyOz+6jGMCVb/tRVpuAVvZbc",
      "include_colab_link": true
    },
    "kernelspec": {
      "name": "python3",
      "display_name": "Python 3"
    },
    "language_info": {
      "name": "python"
    }
  },
  "cells": [
    {
      "cell_type": "markdown",
      "metadata": {
        "id": "view-in-github",
        "colab_type": "text"
      },
      "source": [
        "<a href=\"https://colab.research.google.com/github/sunil80884/Assignments/blob/main/Practice_Test_1.ipynb\" target=\"_parent\"><img src=\"https://colab.research.google.com/assets/colab-badge.svg\" alt=\"Open In Colab\"/></a>"
      ]
    },
    {
      "cell_type": "markdown",
      "source": [
        "## Write a program to check whether the person is eligible for voting or not??"
      ],
      "metadata": {
        "id": "FkoDJwYIWfOx"
      }
    },
    {
      "cell_type": "code",
      "source": [
        "x= int(input(\"Enter your Age \"))\n",
        "if x>=18:\n",
        "  print(\"You are Eligble for Voting\")\n",
        "elif x<60:\n",
        "  print(\"You are on expiry Date\")\n",
        "else:\n",
        "  print(\"You are not eligible for Voting\")"
      ],
      "metadata": {
        "colab": {
          "base_uri": "https://localhost:8080/"
        },
        "id": "fldpPF5pW50T",
        "outputId": "83002892-3df6-45f7-cc9f-dffc858d394e"
      },
      "execution_count": null,
      "outputs": [
        {
          "output_type": "stream",
          "name": "stdout",
          "text": [
            "Enter your Age 52\n",
            "You are Eligble for Voting\n"
          ]
        }
      ]
    },
    {
      "cell_type": "code",
      "source": [
        "x = int(input(\"Enter your Age \"))\n",
        "if x >= 18 and x <= 60:\n",
        "    print(\"You are Eligible for Voting\")\n",
        "elif x > 60:\n",
        "    print(\"Abe tere marne ka time agaya hai, Kya krega voting karke\")\n",
        "else:\n",
        "    print(\"You are not eligible for Voting\")"
      ],
      "metadata": {
        "colab": {
          "base_uri": "https://localhost:8080/"
        },
        "id": "oxj907xbW6C_",
        "outputId": "cbad7a4c-957a-4dc5-fa7c-0b8b703d81d8"
      },
      "execution_count": null,
      "outputs": [
        {
          "output_type": "stream",
          "name": "stdout",
          "text": [
            "Enter your Age 65\n",
            "Abe tere marne ka time agaya hai, Kya krega voting karke\n"
          ]
        }
      ]
    },
    {
      "cell_type": "markdown",
      "source": [
        "## Write a program to check whether the number entered by user is Even or Odd ?\n"
      ],
      "metadata": {
        "id": "fk2ntXe4W6KG"
      }
    },
    {
      "cell_type": "code",
      "source": [
        "x=int(input(\"Enter Number \"))\n",
        "if x%2==0:\n",
        "  print(\"This is Even Number\")\n",
        "else:\n",
        "  print(\"This is Odd number\")"
      ],
      "metadata": {
        "colab": {
          "base_uri": "https://localhost:8080/"
        },
        "id": "fvQ207t4W6Oh",
        "outputId": "735b4f4b-76b9-4695-f40d-a9b6aaa80d63"
      },
      "execution_count": null,
      "outputs": [
        {
          "output_type": "stream",
          "name": "stdout",
          "text": [
            "Enter Number 6\n",
            "This is Even Number\n"
          ]
        }
      ]
    },
    {
      "cell_type": "markdown",
      "source": [
        "##Write a program to check whether the number is divisible by 7 or not ?\n",
        "\n"
      ],
      "metadata": {
        "id": "_rx8NkS4W6R9"
      }
    },
    {
      "cell_type": "code",
      "source": [
        "x=int(input(\"Enter any Number \"'\\n'))\n",
        "if x%7==0:\n",
        "  print(\"It is divisible by 7\")\n",
        "else:\n",
        "  print(\"This is not divisible by 7\")"
      ],
      "metadata": {
        "colab": {
          "base_uri": "https://localhost:8080/"
        },
        "id": "4075UyVdW6VE",
        "outputId": "633173d5-810e-4642-e579-f02d63e37508"
      },
      "execution_count": null,
      "outputs": [
        {
          "output_type": "stream",
          "name": "stdout",
          "text": [
            "Enter any Number \n",
            "58\n",
            "This is not divisible by 7\n"
          ]
        }
      ]
    },
    {
      "cell_type": "markdown",
      "source": [
        "## Write a program to display \"Hello\" if number entered is multiple of 5 Otherwise print \"Bye\" ?"
      ],
      "metadata": {
        "id": "4yREKrhnihbO"
      }
    },
    {
      "cell_type": "code",
      "source": [
        "x=int(input(\"Enter any Number \"'\\n'))\n",
        "if x%5==0:\n",
        "  print(\"Hello\")\n",
        "else:\n",
        "  print(\"Bye\")"
      ],
      "metadata": {
        "colab": {
          "base_uri": "https://localhost:8080/"
        },
        "id": "T2tuwaSdlVqK",
        "outputId": "d325b36c-a5de-48ff-8955-a3bc5fa53b86"
      },
      "execution_count": null,
      "outputs": [
        {
          "output_type": "stream",
          "name": "stdout",
          "text": [
            "Enter any Number \n",
            "23\n",
            "Bye\n"
          ]
        }
      ]
    },
    {
      "cell_type": "markdown",
      "source": [
        "## Write a program to claculate the electricity bill (accept number of units from user) according to the following criteria:\n",
        "## units-------------------------------price\n",
        "##first 100 units---------------------no charge\n",
        "##Next 100 units----------------------Rs 5 per unit\n",
        "##After 200 units---------------------Rs 10 per unit\n",
        "##(For Example if unit is 350 than total bill amount is Rs2000)\n"
      ],
      "metadata": {
        "id": "Bg61zizalVzW"
      }
    },
    {
      "cell_type": "code",
      "source": [
        "amt=0\n",
        "x=int(input(\"Enter you bill unit \"))\n",
        "if x<=100:\n",
        "  amt=0\n",
        "if x>100 and x<=200:\n",
        "  amt=(x-100)*5\n",
        "if x>200:\n",
        "  amt=500+(x-200)*10\n",
        "print(\"Amount to pay:\",amt)\n",
        "\n"
      ],
      "metadata": {
        "colab": {
          "base_uri": "https://localhost:8080/"
        },
        "id": "85dWdpuAlV6n",
        "outputId": "e0aeceac-2f81-4bde-a858-8c07cc7dd55e"
      },
      "execution_count": null,
      "outputs": [
        {
          "output_type": "stream",
          "name": "stdout",
          "text": [
            "Enter you bill unit 201\n",
            "Amount to pay: 510\n"
          ]
        }
      ]
    },
    {
      "cell_type": "code",
      "source": [
        "amt=0\n",
        "x=int(input(\"Enter you bill unit \"))\n",
        "if x<=100:\n",
        "  amt=0\n",
        "if x>100 and x<=200:\n",
        "  amt=(x-100)*5\n",
        "if x>200:\n",
        "  amt=500+(x-200)*10\n",
        "print(\"Amount to pay:\",amt)"
      ],
      "metadata": {
        "colab": {
          "base_uri": "https://localhost:8080/"
        },
        "id": "5idxcKQalWBo",
        "outputId": "0c40a757-1cb6-4e1c-9b75-95c6d1978821"
      },
      "execution_count": null,
      "outputs": [
        {
          "output_type": "stream",
          "name": "stdout",
          "text": [
            "Enter you bill unit 201\n",
            "Amount to pay: 510\n"
          ]
        }
      ]
    },
    {
      "cell_type": "markdown",
      "source": [
        "## how to calculate leap year\n",
        "\n",
        "1. year % 4 == 0: This checks if the year is divisible by 4 without a remainder. This is one of the conditions for a leap year.\n",
        "\n",
        "2. year % 100 != 0: This checks if the year is not divisible by 100 without a remainder. This is another condition for a leap year because years divisible by 100 but not by 400 are not leap years.\n",
        "\n",
        "3. \"or\": This is a logical operator that returns True if at least one of the conditions on either side of it is True.\n",
        "\n",
        "4. year % 400 == 0: This checks if the year is divisible by 400 without a remainder. This is an additional condition that overrides the previous one if met. It accounts for the exception to the rule mentioned in point 2."
      ],
      "metadata": {
        "id": "kWBN9CSzlWRW"
      }
    },
    {
      "cell_type": "code",
      "source": [
        "year=int(input(\"Enter year to be checked:\"))\n",
        "if(year%4==0 and year%100!= 0 or year%400==0):\n",
        "  print(\"The year is a leap year!\")\n",
        "else:\n",
        "  print(\"The year isn't a leap year!\")"
      ],
      "metadata": {
        "id": "lyzAoEZxlWXO",
        "colab": {
          "base_uri": "https://localhost:8080/"
        },
        "outputId": "f8f41eec-e7a3-42df-ad74-64984da35d10"
      },
      "execution_count": null,
      "outputs": [
        {
          "output_type": "stream",
          "name": "stdout",
          "text": [
            "Enter year to be checked:562\n",
            "The year isn't a leap year!\n"
          ]
        }
      ]
    },
    {
      "cell_type": "markdown",
      "source": [
        "## Write a program to display the last digit of a number (hint: any number %10 will return the last digit)\n"
      ],
      "metadata": {
        "id": "xXzZjZBdlWc0"
      }
    },
    {
      "cell_type": "code",
      "source": [
        "x=int(input(\"Enter any Number \"))\n",
        "print(\"Last digit of number is\",x%10)"
      ],
      "metadata": {
        "id": "TRO3Af5wlWi-",
        "colab": {
          "base_uri": "https://localhost:8080/"
        },
        "outputId": "04ecee5b-5b5e-4405-c240-efaadc7e9ca4"
      },
      "execution_count": null,
      "outputs": [
        {
          "output_type": "stream",
          "name": "stdout",
          "text": [
            "Enter any Number 598\n",
            "Last digit of number is 8\n"
          ]
        }
      ]
    },
    {
      "cell_type": "markdown",
      "source": [
        "## Write a program to check whether the last digit of a number (Entered by user) is divisible by 3 or not\n",
        "\n",
        "1. x = int(input(\"Enter any Number \")): This line prompts the user to enter a number, reads the input as a string, converts it to an integer using int(), and assigns the result to the variable x.\n",
        "\n",
        "2. id = x % 10: This line calculates the remainder when x is divided by 10 and assigns the result to the variable id. This effectively extracts the last digit of the entered number.\n",
        "\n",
        "3. if id % 3 == 0:: This line checks if the last digit (id) of the entered number is divisible by 3. It does so by checking if the remainder when id is divided by 3 is equal to 0.\n",
        "\n",
        "4. print(\"The last digit of the number is divisible by 3\"): If the condition in the if statement is true, this line is executed, and it prints a message indicating that the last digit of the entered number is divisible by 3.\n",
        "\n",
        "5. else:: If the condition in the if statement is false, the code inside the else block is executed.\n",
        "\n",
        "6. print(\"The last digit of the number is not divisible by 3\"): This line prints a message indicating that the last digit of the entered number is not divisible by 3."
      ],
      "metadata": {
        "id": "-uhJ4wbjD5ZK"
      }
    },
    {
      "cell_type": "code",
      "source": [
        "x=int(input(\"Enter any Number \"))\n",
        "id=x%10\n",
        "if id%3==0:\n",
        "  print(\"last digit number is divisible by 3\")\n",
        "else:\n",
        "  print(\"last digit number is not divisible by 3\")"
      ],
      "metadata": {
        "colab": {
          "base_uri": "https://localhost:8080/"
        },
        "id": "CGdM6CKGD5cs",
        "outputId": "6d4e2d32-cd49-437b-ecd6-f6d3c5667e4a"
      },
      "execution_count": null,
      "outputs": [
        {
          "output_type": "stream",
          "name": "stdout",
          "text": [
            "Enter any Number 26564\n",
            "last digit number is not divisible by 3\n"
          ]
        }
      ]
    },
    {
      "cell_type": "code",
      "source": [
        "x = int(input(\"Enter Cost Price: \"))\n",
        "\n",
        "if x > 100000:\n",
        "    tax_increase_percentage = 15\n",
        "elif 50000 < x <= 100000:\n",
        "    tax_increase_percentage = 10\n",
        "elif x <= 50000:\n",
        "    tax_increase_percentage = 5\n",
        "else:\n",
        "    print(\"No data Found\")\n",
        "    exit()\n",
        "\n",
        "tax_increase = (tax_increase_percentage / 100) * x\n",
        "new_cost_price = x + tax_increase\n",
        "\n",
        "print(f\"Your tax is increased by {tax_increase_percentage}%, the new cost price is {new_cost_price}\")"
      ],
      "metadata": {
        "id": "KHo_1ZowD5fy",
        "colab": {
          "base_uri": "https://localhost:8080/"
        },
        "outputId": "51cb84c1-9c55-4a4b-e6b1-7f87fe6a8b0f"
      },
      "execution_count": null,
      "outputs": [
        {
          "output_type": "stream",
          "name": "stdout",
          "text": [
            "Enter Cost Price: 50000\n",
            "Your tax is increased by 5%, the new cost price is 52500.0\n"
          ]
        }
      ]
    },
    {
      "cell_type": "code",
      "source": [],
      "metadata": {
        "id": "OAk7ceIGD5iy"
      },
      "execution_count": null,
      "outputs": []
    },
    {
      "cell_type": "code",
      "source": [],
      "metadata": {
        "id": "1JbPFSBDD5l1"
      },
      "execution_count": null,
      "outputs": []
    },
    {
      "cell_type": "code",
      "source": [],
      "metadata": {
        "id": "8zGCNwALD5oi"
      },
      "execution_count": null,
      "outputs": []
    },
    {
      "cell_type": "code",
      "source": [],
      "metadata": {
        "id": "OLAH3pmLD5s7"
      },
      "execution_count": null,
      "outputs": []
    },
    {
      "cell_type": "code",
      "source": [],
      "metadata": {
        "id": "zU7ffS4aD5wq"
      },
      "execution_count": null,
      "outputs": []
    },
    {
      "cell_type": "code",
      "source": [],
      "metadata": {
        "id": "30YWS_uLD5zV"
      },
      "execution_count": null,
      "outputs": []
    },
    {
      "cell_type": "code",
      "source": [],
      "metadata": {
        "id": "AMbQqejVD52e"
      },
      "execution_count": null,
      "outputs": []
    },
    {
      "cell_type": "code",
      "source": [],
      "metadata": {
        "id": "kq1qlm-dD55s"
      },
      "execution_count": null,
      "outputs": []
    },
    {
      "cell_type": "code",
      "source": [],
      "metadata": {
        "id": "NFJM2ChcD58j"
      },
      "execution_count": null,
      "outputs": []
    },
    {
      "cell_type": "code",
      "source": [],
      "metadata": {
        "id": "6uyoc2WXD5_b"
      },
      "execution_count": null,
      "outputs": []
    },
    {
      "cell_type": "code",
      "source": [],
      "metadata": {
        "id": "F7bsq3vnD6Cd"
      },
      "execution_count": null,
      "outputs": []
    },
    {
      "cell_type": "code",
      "source": [],
      "metadata": {
        "id": "kPoQ1OJFD6HP"
      },
      "execution_count": null,
      "outputs": []
    },
    {
      "cell_type": "code",
      "source": [],
      "metadata": {
        "id": "d7zNIEeMD6LB"
      },
      "execution_count": null,
      "outputs": []
    },
    {
      "cell_type": "code",
      "source": [],
      "metadata": {
        "id": "cpFLI2hND6Ni"
      },
      "execution_count": null,
      "outputs": []
    },
    {
      "cell_type": "code",
      "source": [],
      "metadata": {
        "id": "IkkDNv69D6Qh"
      },
      "execution_count": null,
      "outputs": []
    },
    {
      "cell_type": "code",
      "source": [],
      "metadata": {
        "id": "jfGU9JawD6UE"
      },
      "execution_count": null,
      "outputs": []
    },
    {
      "cell_type": "code",
      "source": [],
      "metadata": {
        "id": "9Mo9mQQaD6W7"
      },
      "execution_count": null,
      "outputs": []
    },
    {
      "cell_type": "code",
      "source": [],
      "metadata": {
        "id": "gEJDoQB3D6Zp"
      },
      "execution_count": null,
      "outputs": []
    }
  ]
}